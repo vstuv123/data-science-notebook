{
  "metadata": {
    "kernelspec": {
      "name": "python",
      "display_name": "Python (Pyodide)",
      "language": "python"
    },
    "language_info": {
      "codemirror_mode": {
        "name": "python",
        "version": 3
      },
      "file_extension": ".py",
      "mimetype": "text/x-python",
      "name": "python",
      "nbconvert_exporter": "python",
      "pygments_lexer": "ipython3",
      "version": "3.8"
    }
  },
  "nbformat_minor": 5,
  "nbformat": 4,
  "cells": [
    {
      "id": "b2636b57-d239-4d4b-bcc7-e45ac609a2d7",
      "cell_type": "markdown",
      "source": "# Data Science Tools and Ecosystem",
      "metadata": {}
    },
    {
      "id": "b17cb316-b4c2-4570-b71b-c7668016f3a0",
      "cell_type": "markdown",
      "source": "In this notebook, Data Science Tools and Ecosystem are summarized.",
      "metadata": {},
      "attachments": {}
    },
    {
      "id": "c0dc31f1-3940-41ff-8377-a3c0c641a797",
      "cell_type": "markdown",
      "source": "__Objectives__\n- Phyton\n- R\n- Java\n- C++\n- SQL",
      "metadata": {}
    },
    {
      "id": "e47392cd-b260-4054-a76e-da7120f127b8",
      "cell_type": "markdown",
      "source": "Some of the popular languages that Data Scientists use are:\n1. Phyton\n2. R\n3. SQL",
      "metadata": {}
    },
    {
      "id": "f70d0165-7bf7-4bbd-9a57-a7627c7dfbcb",
      "cell_type": "markdown",
      "source": "Some of the commonly used libraries used by Data Scientists include:\n1. Pandas\n2. Numpy\n3. Scikit-Learn\n4. Ggplot",
      "metadata": {}
    },
    {
      "id": "9be5a8dc-eff1-4cde-9408-5adc68855815",
      "cell_type": "markdown",
      "source": "|  Data Science Tools |\n| ------------------- |\n|  Jupyter Notebook   |\n|  RStudio            |\n|  Visual Studio Code |",
      "metadata": {}
    },
    {
      "id": "24649e04-46c4-4093-bdc4-8da4d704f1f3",
      "cell_type": "markdown",
      "source": "### Below are a few examples of evaluating arithmetic expressions in Python",
      "metadata": {}
    },
    {
      "id": "0e1c7eae-9924-451d-b32f-f45a74da89c3",
      "cell_type": "code",
      "source": "# This a simple arithmetic expression to mutiply then add integers\n(3*4)+5",
      "metadata": {
        "trusted": true
      },
      "outputs": [
        {
          "execution_count": 1,
          "output_type": "execute_result",
          "data": {
            "text/plain": "17"
          },
          "metadata": {}
        }
      ],
      "execution_count": 1
    },
    {
      "id": "1f79141e-6f4b-496b-9819-d99287b92f92",
      "cell_type": "code",
      "source": "# This will convert 200 minutes to hours by diving by 60\n200 / 60",
      "metadata": {
        "trusted": true
      },
      "outputs": [
        {
          "execution_count": 6,
          "output_type": "execute_result",
          "data": {
            "text/plain": "3.3333333333333335"
          },
          "metadata": {}
        }
      ],
      "execution_count": 6
    },
    {
      "id": "8750f9fc-64ab-429a-889b-67d631fd2949",
      "cell_type": "markdown",
      "source": "## Author\nMuhammad Abdullah",
      "metadata": {}
    },
    {
      "id": "6a95e63f-f85c-496e-b9af-fb41694b0c8e",
      "cell_type": "code",
      "source": "",
      "metadata": {
        "trusted": true
      },
      "outputs": [],
      "execution_count": null
    }
  ]
}